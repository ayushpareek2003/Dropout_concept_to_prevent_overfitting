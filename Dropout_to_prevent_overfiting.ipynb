{
 "cells": [
  {
   "cell_type": "code",
   "execution_count": 1,
   "id": "589dcc12-5d88-4279-ad9a-ab18edc74ffd",
   "metadata": {},
   "outputs": [],
   "source": [
    "import pandas as pd\n",
    "import numpy as np\n",
    "from matplotlib import pyplot as p\n"
   ]
  },
  {
   "cell_type": "code",
   "execution_count": 2,
   "id": "b5fbb329-b42f-46d2-a84b-35fbd80224aa",
   "metadata": {},
   "outputs": [],
   "source": [
    "d=pd.read_csv(\"data.csv\")"
   ]
  },
  {
   "cell_type": "code",
   "execution_count": 3,
   "id": "cacb308a-40b5-4fd3-ab9e-df6d32fa3f58",
   "metadata": {},
   "outputs": [],
   "source": [
    "d.drop(\"customerID\",axis=1,inplace=True)"
   ]
  },
  {
   "cell_type": "code",
   "execution_count": 4,
   "id": "c8871866-e8de-4d5a-8ff0-b8241ce7ad2c",
   "metadata": {},
   "outputs": [
    {
     "data": {
      "text/plain": [
       "0         29.85\n",
       "1       1889.50\n",
       "2        108.15\n",
       "3       1840.75\n",
       "4        151.65\n",
       "         ...   \n",
       "7038    1990.50\n",
       "7039    7362.90\n",
       "7040     346.45\n",
       "7041     306.60\n",
       "7042    6844.50\n",
       "Name: TotalCharges, Length: 7043, dtype: float64"
      ]
     },
     "execution_count": 4,
     "metadata": {},
     "output_type": "execute_result"
    }
   ],
   "source": [
    "pd.to_numeric(d.TotalCharges,errors='coerce')"
   ]
  },
  {
   "cell_type": "code",
   "execution_count": 5,
   "id": "f9a00fc5-de92-48b0-87dc-ec4796630df3",
   "metadata": {},
   "outputs": [],
   "source": [
    "d=d[d.TotalCharges!=' ']\n",
    "x=d[d.Churn=='No'].tenure\n",
    "y=d[d.Churn=='Yes'].tenure"
   ]
  },
  {
   "cell_type": "code",
   "execution_count": 6,
   "id": "aaa94971-e413-4406-bbc1-f656e86036c5",
   "metadata": {},
   "outputs": [
    {
     "data": {
      "text/plain": [
       "<matplotlib.legend.Legend at 0x1c7d1f46310>"
      ]
     },
     "execution_count": 6,
     "metadata": {},
     "output_type": "execute_result"
    },
    {
     "data": {
      "image/png": "[encoded data removed]",
      "text/plain": [
       "<Figure size 640x480 with 1 Axes>"
      ]
     },
     "metadata": {},
     "output_type": "display_data"
    }
   ],
   "source": [
    "p.xlabel(\"Tenure\")\n",
    "p.ylabel(\"No. of person\")\n",
    "p.hist([x,y], rwidth=0.95,color=['green','red'],label=['Yes','No'])\n",
    "p.legend()"
   ]
  },
  {
   "cell_type": "code",
   "execution_count": 7,
   "id": "53e8aecd-7450-487f-84a8-35ef68ad0c6c",
   "metadata": {},
   "outputs": [],
   "source": [
    "d.replace('No internet service','No',inplace=True)\n",
    "d.replace('No phone service','No',inplace=True)"
   ]
  },
  {
   "cell_type": "code",
   "execution_count": 8,
   "id": "d97b14a8-ad9d-4a56-8291-06ffea84865f",
   "metadata": {},
   "outputs": [],
   "source": [
    "d.replace([\"DSL\",\"Fiber optic\"],'Yes',inplace=True)"
   ]
  },
  {
   "cell_type": "code",
   "execution_count": 9,
   "id": "21e6a61e-b299-4ea2-85bc-eebfb40951c9",
   "metadata": {},
   "outputs": [],
   "source": [
    "change=['Partner','Dependents','PhoneService','MultipleLines','InternetService','OnlineSecurity','OnlineBackup','DeviceProtection','TechSupport','StreamingTV','StreamingMovies','PaperlessBilling','Churn']\n",
    "for i in change:\n",
    "    d[i].replace({'Yes':1,'No':0},inplace=True)"
   ]
  },
  {
   "cell_type": "code",
   "execution_count": 10,
   "id": "db18ecb1-b511-42e0-8c1c-74b584f50bdd",
   "metadata": {},
   "outputs": [],
   "source": [
    "new=pd.get_dummies(data=d,columns=['Contract'])"
   ]
  },
  {
   "cell_type": "code",
   "execution_count": 11,
   "id": "9135f11d-aa76-4b22-b5ab-3ef2494b0880",
   "metadata": {},
   "outputs": [
    {
     "data": {
      "text/plain": [
       "Index(['gender', 'SeniorCitizen', 'Partner', 'Dependents', 'tenure',\n",
       "       'PhoneService', 'MultipleLines', 'InternetService', 'OnlineSecurity',\n",
       "       'OnlineBackup', 'DeviceProtection', 'TechSupport', 'StreamingTV',\n",
       "       'StreamingMovies', 'PaperlessBilling', 'PaymentMethod',\n",
       "       'MonthlyCharges', 'TotalCharges', 'Churn', 'Contract_Month-to-month',\n",
       "       'Contract_One year', 'Contract_Two year'],\n",
       "      dtype='object')"
      ]
     },
     "execution_count": 11,
     "metadata": {},
     "output_type": "execute_result"
    }
   ],
   "source": [
    "new.columns"
   ]
  },
  {
   "cell_type": "code",
   "execution_count": 12,
   "id": "9b16e1f1-8e86-49e7-926c-4ec4fdf371c6",
   "metadata": {},
   "outputs": [],
   "source": [
    "ty=['Contract_One year','Contract_Month-to-month','Contract_Two year']"
   ]
  },
  {
   "cell_type": "code",
   "execution_count": 13,
   "id": "aa0e814f-8c0d-4818-a9cc-a0fd51f09545",
   "metadata": {},
   "outputs": [],
   "source": [
    "for j in ty:\n",
    "    new[j].replace({True:1,False:0},inplace=True)"
   ]
  },
  {
   "cell_type": "code",
   "execution_count": 14,
   "id": "64540d35-85ac-4839-a3a6-716fd3596afc",
   "metadata": {},
   "outputs": [],
   "source": [
    "ko=['TotalCharges','MonthlyCharges','tenure']\n",
    "from sklearn.preprocessing import MinMaxScaler\n",
    "ty=MinMaxScaler()\n",
    "\n",
    "new[ko]=ty.fit_transform(new[ko])\n"
   ]
  },
  {
   "cell_type": "code",
   "execution_count": 15,
   "id": "3c263ec1-972b-4974-8803-a8608b889297",
   "metadata": {},
   "outputs": [],
   "source": [
    "new.replace({'Female':1,'Male':0},inplace=True)"
   ]
  },
  {
   "cell_type": "code",
   "execution_count": 16,
   "id": "d77a5097-d582-48f2-b34e-f5a64648b7a6",
   "metadata": {},
   "outputs": [
    {
     "data": {
      "text/html": [
       "<div>\n",
       "<style scoped>\n",
       "    .dataframe tbody tr th:only-of-type {\n",
       "        vertical-align: middle;\n",
       "    }\n",
       "\n",
       "    .dataframe tbody tr th {\n",
       "        vertical-align: top;\n",
       "    }\n",
       "\n",
       "    .dataframe thead th {\n",
       "        text-align: right;\n",
       "    }\n",
       "</style>\n",
       "<table border=\"1\" class=\"dataframe\">\n",
       "  <thead>\n",
       "    <tr style=\"text-align: right;\">\n",
       "      <th></th>\n",
       "      <th>gender</th>\n",
       "      <th>SeniorCitizen</th>\n",
       "      <th>Partner</th>\n",
       "      <th>Dependents</th>\n",
       "      <th>tenure</th>\n",
       "      <th>PhoneService</th>\n",
       "      <th>MultipleLines</th>\n",
       "      <th>InternetService</th>\n",
       "      <th>OnlineSecurity</th>\n",
       "      <th>OnlineBackup</th>\n",
       "      <th>...</th>\n",
       "      <th>StreamingTV</th>\n",
       "      <th>StreamingMovies</th>\n",
       "      <th>PaperlessBilling</th>\n",
       "      <th>PaymentMethod</th>\n",
       "      <th>MonthlyCharges</th>\n",
       "      <th>TotalCharges</th>\n",
       "      <th>Churn</th>\n",
       "      <th>Contract_Month-to-month</th>\n",
       "      <th>Contract_One year</th>\n",
       "      <th>Contract_Two year</th>\n",
       "    </tr>\n",
       "  </thead>\n",
       "  <tbody>\n",
       "    <tr>\n",
       "      <th>0</th>\n",
       "      <td>1</td>\n",
       "      <td>0</td>\n",
       "      <td>1</td>\n",
       "      <td>0</td>\n",
       "      <td>0.000000</td>\n",
       "      <td>0</td>\n",
       "      <td>0</td>\n",
       "      <td>1</td>\n",
       "      <td>0</td>\n",
       "      <td>1</td>\n",
       "      <td>...</td>\n",
       "      <td>0</td>\n",
       "      <td>0</td>\n",
       "      <td>1</td>\n",
       "      <td>Electronic check</td>\n",
       "      <td>0.115423</td>\n",
       "      <td>0.001275</td>\n",
       "      <td>0</td>\n",
       "      <td>1</td>\n",
       "      <td>0</td>\n",
       "      <td>0</td>\n",
       "    </tr>\n",
       "    <tr>\n",
       "      <th>1</th>\n",
       "      <td>0</td>\n",
       "      <td>0</td>\n",
       "      <td>0</td>\n",
       "      <td>0</td>\n",
       "      <td>0.464789</td>\n",
       "      <td>1</td>\n",
       "      <td>0</td>\n",
       "      <td>1</td>\n",
       "      <td>1</td>\n",
       "      <td>0</td>\n",
       "      <td>...</td>\n",
       "      <td>0</td>\n",
       "      <td>0</td>\n",
       "      <td>0</td>\n",
       "      <td>Mailed check</td>\n",
       "      <td>0.385075</td>\n",
       "      <td>0.215867</td>\n",
       "      <td>0</td>\n",
       "      <td>0</td>\n",
       "      <td>1</td>\n",
       "      <td>0</td>\n",
       "    </tr>\n",
       "    <tr>\n",
       "      <th>2</th>\n",
       "      <td>0</td>\n",
       "      <td>0</td>\n",
       "      <td>0</td>\n",
       "      <td>0</td>\n",
       "      <td>0.014085</td>\n",
       "      <td>1</td>\n",
       "      <td>0</td>\n",
       "      <td>1</td>\n",
       "      <td>1</td>\n",
       "      <td>1</td>\n",
       "      <td>...</td>\n",
       "      <td>0</td>\n",
       "      <td>0</td>\n",
       "      <td>1</td>\n",
       "      <td>Mailed check</td>\n",
       "      <td>0.354229</td>\n",
       "      <td>0.010310</td>\n",
       "      <td>1</td>\n",
       "      <td>1</td>\n",
       "      <td>0</td>\n",
       "      <td>0</td>\n",
       "    </tr>\n",
       "    <tr>\n",
       "      <th>3</th>\n",
       "      <td>0</td>\n",
       "      <td>0</td>\n",
       "      <td>0</td>\n",
       "      <td>0</td>\n",
       "      <td>0.619718</td>\n",
       "      <td>0</td>\n",
       "      <td>0</td>\n",
       "      <td>1</td>\n",
       "      <td>1</td>\n",
       "      <td>0</td>\n",
       "      <td>...</td>\n",
       "      <td>0</td>\n",
       "      <td>0</td>\n",
       "      <td>0</td>\n",
       "      <td>Bank transfer (automatic)</td>\n",
       "      <td>0.239303</td>\n",
       "      <td>0.210241</td>\n",
       "      <td>0</td>\n",
       "      <td>0</td>\n",
       "      <td>1</td>\n",
       "      <td>0</td>\n",
       "    </tr>\n",
       "    <tr>\n",
       "      <th>4</th>\n",
       "      <td>1</td>\n",
       "      <td>0</td>\n",
       "      <td>0</td>\n",
       "      <td>0</td>\n",
       "      <td>0.014085</td>\n",
       "      <td>1</td>\n",
       "      <td>0</td>\n",
       "      <td>1</td>\n",
       "      <td>0</td>\n",
       "      <td>0</td>\n",
       "      <td>...</td>\n",
       "      <td>0</td>\n",
       "      <td>0</td>\n",
       "      <td>1</td>\n",
       "      <td>Electronic check</td>\n",
       "      <td>0.521891</td>\n",
       "      <td>0.015330</td>\n",
       "      <td>1</td>\n",
       "      <td>1</td>\n",
       "      <td>0</td>\n",
       "      <td>0</td>\n",
       "    </tr>\n",
       "    <tr>\n",
       "      <th>...</th>\n",
       "      <td>...</td>\n",
       "      <td>...</td>\n",
       "      <td>...</td>\n",
       "      <td>...</td>\n",
       "      <td>...</td>\n",
       "      <td>...</td>\n",
       "      <td>...</td>\n",
       "      <td>...</td>\n",
       "      <td>...</td>\n",
       "      <td>...</td>\n",
       "      <td>...</td>\n",
       "      <td>...</td>\n",
       "      <td>...</td>\n",
       "      <td>...</td>\n",
       "      <td>...</td>\n",
       "      <td>...</td>\n",
       "      <td>...</td>\n",
       "      <td>...</td>\n",
       "      <td>...</td>\n",
       "      <td>...</td>\n",
       "      <td>...</td>\n",
       "    </tr>\n",
       "    <tr>\n",
       "      <th>7038</th>\n",
       "      <td>0</td>\n",
       "      <td>0</td>\n",
       "      <td>1</td>\n",
       "      <td>1</td>\n",
       "      <td>0.323944</td>\n",
       "      <td>1</td>\n",
       "      <td>1</td>\n",
       "      <td>1</td>\n",
       "      <td>1</td>\n",
       "      <td>0</td>\n",
       "      <td>...</td>\n",
       "      <td>1</td>\n",
       "      <td>1</td>\n",
       "      <td>1</td>\n",
       "      <td>Mailed check</td>\n",
       "      <td>0.662189</td>\n",
       "      <td>0.227521</td>\n",
       "      <td>0</td>\n",
       "      <td>0</td>\n",
       "      <td>1</td>\n",
       "      <td>0</td>\n",
       "    </tr>\n",
       "    <tr>\n",
       "      <th>7039</th>\n",
       "      <td>1</td>\n",
       "      <td>0</td>\n",
       "      <td>1</td>\n",
       "      <td>1</td>\n",
       "      <td>1.000000</td>\n",
       "      <td>1</td>\n",
       "      <td>1</td>\n",
       "      <td>1</td>\n",
       "      <td>0</td>\n",
       "      <td>1</td>\n",
       "      <td>...</td>\n",
       "      <td>1</td>\n",
       "      <td>1</td>\n",
       "      <td>1</td>\n",
       "      <td>Credit card (automatic)</td>\n",
       "      <td>0.845274</td>\n",
       "      <td>0.847461</td>\n",
       "      <td>0</td>\n",
       "      <td>0</td>\n",
       "      <td>1</td>\n",
       "      <td>0</td>\n",
       "    </tr>\n",
       "    <tr>\n",
       "      <th>7040</th>\n",
       "      <td>1</td>\n",
       "      <td>0</td>\n",
       "      <td>1</td>\n",
       "      <td>1</td>\n",
       "      <td>0.140845</td>\n",
       "      <td>0</td>\n",
       "      <td>0</td>\n",
       "      <td>1</td>\n",
       "      <td>1</td>\n",
       "      <td>0</td>\n",
       "      <td>...</td>\n",
       "      <td>0</td>\n",
       "      <td>0</td>\n",
       "      <td>1</td>\n",
       "      <td>Electronic check</td>\n",
       "      <td>0.112935</td>\n",
       "      <td>0.037809</td>\n",
       "      <td>0</td>\n",
       "      <td>1</td>\n",
       "      <td>0</td>\n",
       "      <td>0</td>\n",
       "    </tr>\n",
       "    <tr>\n",
       "      <th>7041</th>\n",
       "      <td>0</td>\n",
       "      <td>1</td>\n",
       "      <td>1</td>\n",
       "      <td>0</td>\n",
       "      <td>0.042254</td>\n",
       "      <td>1</td>\n",
       "      <td>1</td>\n",
       "      <td>1</td>\n",
       "      <td>0</td>\n",
       "      <td>0</td>\n",
       "      <td>...</td>\n",
       "      <td>0</td>\n",
       "      <td>0</td>\n",
       "      <td>1</td>\n",
       "      <td>Mailed check</td>\n",
       "      <td>0.558706</td>\n",
       "      <td>0.033210</td>\n",
       "      <td>1</td>\n",
       "      <td>1</td>\n",
       "      <td>0</td>\n",
       "      <td>0</td>\n",
       "    </tr>\n",
       "    <tr>\n",
       "      <th>7042</th>\n",
       "      <td>0</td>\n",
       "      <td>0</td>\n",
       "      <td>0</td>\n",
       "      <td>0</td>\n",
       "      <td>0.915493</td>\n",
       "      <td>1</td>\n",
       "      <td>0</td>\n",
       "      <td>1</td>\n",
       "      <td>1</td>\n",
       "      <td>0</td>\n",
       "      <td>...</td>\n",
       "      <td>1</td>\n",
       "      <td>1</td>\n",
       "      <td>1</td>\n",
       "      <td>Bank transfer (automatic)</td>\n",
       "      <td>0.869652</td>\n",
       "      <td>0.787641</td>\n",
       "      <td>0</td>\n",
       "      <td>0</td>\n",
       "      <td>0</td>\n",
       "      <td>1</td>\n",
       "    </tr>\n",
       "  </tbody>\n",
       "</table>\n",
       "<p>7032 rows × 22 columns</p>\n",
       "</div>"
      ],
      "text/plain": [
       "      gender  SeniorCitizen  Partner  Dependents    tenure  PhoneService  \\\n",
       "0          1              0        1           0  0.000000             0   \n",
       "1          0              0        0           0  0.464789             1   \n",
       "2          0              0        0           0  0.014085             1   \n",
       "3          0              0        0           0  0.619718             0   \n",
       "4          1              0        0           0  0.014085             1   \n",
       "...      ...            ...      ...         ...       ...           ...   \n",
       "7038       0              0        1           1  0.323944             1   \n",
       "7039       1              0        1           1  1.000000             1   \n",
       "7040       1              0        1           1  0.140845             0   \n",
       "7041       0              1        1           0  0.042254             1   \n",
       "7042       0              0        0           0  0.915493             1   \n",
       "\n",
       "      MultipleLines  InternetService  OnlineSecurity  OnlineBackup  ...  \\\n",
       "0                 0                1               0             1  ...   \n",
       "1                 0                1               1             0  ...   \n",
       "2                 0                1               1             1  ...   \n",
       "3                 0                1               1             0  ...   \n",
       "4                 0                1               0             0  ...   \n",
       "...             ...              ...             ...           ...  ...   \n",
       "7038              1                1               1             0  ...   \n",
       "7039              1                1               0             1  ...   \n",
       "7040              0                1               1             0  ...   \n",
       "7041              1                1               0             0  ...   \n",
       "7042              0                1               1             0  ...   \n",
       "\n",
       "      StreamingTV  StreamingMovies  PaperlessBilling  \\\n",
       "0               0                0                 1   \n",
       "1               0                0                 0   \n",
       "2               0                0                 1   \n",
       "3               0                0                 0   \n",
       "4               0                0                 1   \n",
       "...           ...              ...               ...   \n",
       "7038            1                1                 1   \n",
       "7039            1                1                 1   \n",
       "7040            0                0                 1   \n",
       "7041            0                0                 1   \n",
       "7042            1                1                 1   \n",
       "\n",
       "                  PaymentMethod  MonthlyCharges TotalCharges  Churn  \\\n",
       "0              Electronic check        0.115423     0.001275      0   \n",
       "1                  Mailed check        0.385075     0.215867      0   \n",
       "2                  Mailed check        0.354229     0.010310      1   \n",
       "3     Bank transfer (automatic)        0.239303     0.210241      0   \n",
       "4              Electronic check        0.521891     0.015330      1   \n",
       "...                         ...             ...          ...    ...   \n",
       "7038               Mailed check        0.662189     0.227521      0   \n",
       "7039    Credit card (automatic)        0.845274     0.847461      0   \n",
       "7040           Electronic check        0.112935     0.037809      0   \n",
       "7041               Mailed check        0.558706     0.033210      1   \n",
       "7042  Bank transfer (automatic)        0.869652     0.787641      0   \n",
       "\n",
       "      Contract_Month-to-month  Contract_One year  Contract_Two year  \n",
       "0                           1                  0                  0  \n",
       "1                           0                  1                  0  \n",
       "2                           1                  0                  0  \n",
       "3                           0                  1                  0  \n",
       "4                           1                  0                  0  \n",
       "...                       ...                ...                ...  \n",
       "7038                        0                  1                  0  \n",
       "7039                        0                  1                  0  \n",
       "7040                        1                  0                  0  \n",
       "7041                        1                  0                  0  \n",
       "7042                        0                  0                  1  \n",
       "\n",
       "[7032 rows x 22 columns]"
      ]
     },
     "execution_count": 16,
     "metadata": {},
     "output_type": "execute_result"
    }
   ],
   "source": [
    "new"
   ]
  },
  {
   "cell_type": "code",
   "execution_count": 17,
   "id": "c577f014-ef76-403e-be73-6b5cf4be8e58",
   "metadata": {},
   "outputs": [],
   "source": [
    "new.drop('PaymentMethod',axis=1,inplace=True)\n",
    "from sklearn.model_selection import train_test_split"
   ]
  },
  {
   "cell_type": "code",
   "execution_count": 18,
   "id": "be57e3e2-87fd-4ec5-b9e3-238590151cce",
   "metadata": {},
   "outputs": [],
   "source": [
    "X,x,Y,y=train_test_split(new.drop('Churn',axis=1),new['Churn'],test_size=0.2)"
   ]
  },
  {
   "cell_type": "code",
   "execution_count": 19,
   "id": "0bf477f1-8df2-4865-ae71-272f85da6d98",
   "metadata": {},
   "outputs": [
    {
     "name": "stdout",
     "output_type": "stream",
     "text": [
      "WARNING:tensorflow:From C:\\Users\\ayush\\AppData\\Local\\Programs\\Python\\Python311\\Lib\\site-packages\\keras\\src\\losses.py:2976: The name tf.losses.sparse_softmax_cross_entropy is deprecated. Please use tf.compat.v1.losses.sparse_softmax_cross_entropy instead.\n",
      "\n"
     ]
    }
   ],
   "source": [
    "import tensorflow as tf"
   ]
  },
  {
   "cell_type": "markdown",
   "id": "33ac5534-0022-4dfd-a67e-10288f0c172b",
   "metadata": {},
   "source": [
    "model without any dropout layer"
   ]
  },
  {
   "cell_type": "code",
   "execution_count": 20,
   "id": "176358c2-de02-4cc9-a3c8-48faf13d5095",
   "metadata": {},
   "outputs": [
    {
     "name": "stdout",
     "output_type": "stream",
     "text": [
      "WARNING:tensorflow:From C:\\Users\\ayush\\AppData\\Local\\Programs\\Python\\Python311\\Lib\\site-packages\\keras\\src\\backend.py:873: The name tf.get_default_graph is deprecated. Please use tf.compat.v1.get_default_graph instead.\n",
      "\n",
      "WARNING:tensorflow:From C:\\Users\\ayush\\AppData\\Local\\Programs\\Python\\Python311\\Lib\\site-packages\\keras\\src\\optimizers\\__init__.py:309: The name tf.train.Optimizer is deprecated. Please use tf.compat.v1.train.Optimizer instead.\n",
      "\n",
      "Epoch 1/100\n",
      "WARNING:tensorflow:From C:\\Users\\ayush\\AppData\\Local\\Programs\\Python\\Python311\\Lib\\site-packages\\keras\\src\\utils\\tf_utils.py:492: The name tf.ragged.RaggedTensorValue is deprecated. Please use tf.compat.v1.ragged.RaggedTensorValue instead.\n",
      "\n",
      "WARNING:tensorflow:From C:\\Users\\ayush\\AppData\\Local\\Programs\\Python\\Python311\\Lib\\site-packages\\keras\\src\\engine\\base_layer_utils.py:384: The name tf.executing_eagerly_outside_functions is deprecated. Please use tf.compat.v1.executing_eagerly_outside_functions instead.\n",
      "\n",
      "176/176 [==============================] - 1s 1ms/step - loss: 0.6059 - accuracy: 0.6599\n",
      "Epoch 2/100\n",
      "176/176 [==============================] - 0s 1ms/step - loss: 0.4871 - accuracy: 0.7552\n",
      "Epoch 3/100\n",
      "176/176 [==============================] - 0s 1ms/step - loss: 0.4495 - accuracy: 0.7868\n",
      "Epoch 4/100\n",
      "176/176 [==============================] - 0s 1ms/step - loss: 0.4393 - accuracy: 0.7927\n",
      "Epoch 5/100\n",
      "176/176 [==============================] - 0s 1ms/step - loss: 0.4348 - accuracy: 0.7952\n",
      "Epoch 6/100\n",
      "176/176 [==============================] - 0s 1ms/step - loss: 0.4315 - accuracy: 0.7964\n",
      "Epoch 7/100\n",
      "176/176 [==============================] - 0s 1ms/step - loss: 0.4291 - accuracy: 0.7957\n",
      "Epoch 8/100\n",
      "176/176 [==============================] - 0s 1ms/step - loss: 0.4286 - accuracy: 0.7957\n",
      "Epoch 9/100\n",
      "176/176 [==============================] - 0s 1ms/step - loss: 0.4266 - accuracy: 0.8005\n",
      "Epoch 10/100\n",
      "176/176 [==============================] - 0s 1ms/step - loss: 0.4259 - accuracy: 0.8021\n",
      "Epoch 11/100\n",
      "176/176 [==============================] - 0s 1ms/step - loss: 0.4247 - accuracy: 0.7995\n",
      "Epoch 12/100\n",
      "176/176 [==============================] - 0s 1ms/step - loss: 0.4239 - accuracy: 0.8025\n",
      "Epoch 13/100\n",
      "176/176 [==============================] - 0s 1ms/step - loss: 0.4227 - accuracy: 0.7991\n",
      "Epoch 14/100\n",
      "176/176 [==============================] - 0s 1ms/step - loss: 0.4223 - accuracy: 0.8030\n",
      "Epoch 15/100\n",
      "176/176 [==============================] - 0s 1ms/step - loss: 0.4213 - accuracy: 0.8002\n",
      "Epoch 16/100\n",
      "176/176 [==============================] - 0s 1ms/step - loss: 0.4205 - accuracy: 0.8032\n",
      "Epoch 17/100\n",
      "176/176 [==============================] - 0s 1ms/step - loss: 0.4198 - accuracy: 0.8016\n",
      "Epoch 18/100\n",
      "176/176 [==============================] - 0s 1ms/step - loss: 0.4193 - accuracy: 0.8037\n",
      "Epoch 19/100\n",
      "176/176 [==============================] - 0s 999us/step - loss: 0.4189 - accuracy: 0.8011\n",
      "Epoch 20/100\n",
      "176/176 [==============================] - 0s 1ms/step - loss: 0.4183 - accuracy: 0.8039\n",
      "Epoch 21/100\n",
      "176/176 [==============================] - 0s 1ms/step - loss: 0.4175 - accuracy: 0.8037\n",
      "Epoch 22/100\n",
      "176/176 [==============================] - 0s 1ms/step - loss: 0.4171 - accuracy: 0.8020\n",
      "Epoch 23/100\n",
      "176/176 [==============================] - 0s 1ms/step - loss: 0.4165 - accuracy: 0.8044\n",
      "Epoch 24/100\n",
      "176/176 [==============================] - 0s 1ms/step - loss: 0.4161 - accuracy: 0.8062\n",
      "Epoch 25/100\n",
      "176/176 [==============================] - 0s 1ms/step - loss: 0.4159 - accuracy: 0.8039\n",
      "Epoch 26/100\n",
      "176/176 [==============================] - 0s 992us/step - loss: 0.4148 - accuracy: 0.8041\n",
      "Epoch 27/100\n",
      "176/176 [==============================] - 0s 972us/step - loss: 0.4144 - accuracy: 0.8044\n",
      "Epoch 28/100\n",
      "176/176 [==============================] - 0s 987us/step - loss: 0.4148 - accuracy: 0.8039\n",
      "Epoch 29/100\n",
      "176/176 [==============================] - 0s 993us/step - loss: 0.4142 - accuracy: 0.8059\n",
      "Epoch 30/100\n",
      "176/176 [==============================] - 0s 988us/step - loss: 0.4138 - accuracy: 0.8050\n",
      "Epoch 31/100\n",
      "176/176 [==============================] - 0s 1ms/step - loss: 0.4136 - accuracy: 0.8052\n",
      "Epoch 32/100\n",
      "176/176 [==============================] - 0s 995us/step - loss: 0.4133 - accuracy: 0.8068\n",
      "Epoch 33/100\n",
      "176/176 [==============================] - 0s 1ms/step - loss: 0.4125 - accuracy: 0.8053\n",
      "Epoch 34/100\n",
      "176/176 [==============================] - 0s 1ms/step - loss: 0.4122 - accuracy: 0.8053\n",
      "Epoch 35/100\n",
      "176/176 [==============================] - 0s 991us/step - loss: 0.4120 - accuracy: 0.8082\n",
      "Epoch 36/100\n",
      "176/176 [==============================] - 0s 1ms/step - loss: 0.4121 - accuracy: 0.8048\n",
      "Epoch 37/100\n",
      "176/176 [==============================] - 0s 1ms/step - loss: 0.4119 - accuracy: 0.8060\n",
      "Epoch 38/100\n",
      "176/176 [==============================] - 0s 1ms/step - loss: 0.4110 - accuracy: 0.8053\n",
      "Epoch 39/100\n",
      "176/176 [==============================] - 0s 1ms/step - loss: 0.4115 - accuracy: 0.8062\n",
      "Epoch 40/100\n",
      "176/176 [==============================] - 0s 997us/step - loss: 0.4107 - accuracy: 0.8068\n",
      "Epoch 41/100\n",
      "176/176 [==============================] - 0s 1ms/step - loss: 0.4103 - accuracy: 0.8055\n",
      "Epoch 42/100\n",
      "176/176 [==============================] - 0s 1ms/step - loss: 0.4102 - accuracy: 0.8075\n",
      "Epoch 43/100\n",
      "176/176 [==============================] - 0s 1ms/step - loss: 0.4102 - accuracy: 0.8059\n",
      "Epoch 44/100\n",
      "176/176 [==============================] - 0s 1ms/step - loss: 0.4103 - accuracy: 0.8082\n",
      "Epoch 45/100\n",
      "176/176 [==============================] - 0s 1ms/step - loss: 0.4098 - accuracy: 0.8082\n",
      "Epoch 46/100\n",
      "176/176 [==============================] - 0s 1ms/step - loss: 0.4100 - accuracy: 0.8060\n",
      "Epoch 47/100\n",
      "176/176 [==============================] - 0s 1ms/step - loss: 0.4085 - accuracy: 0.8075\n",
      "Epoch 48/100\n",
      "176/176 [==============================] - 0s 1ms/step - loss: 0.4086 - accuracy: 0.8060\n",
      "Epoch 49/100\n",
      "176/176 [==============================] - 0s 1ms/step - loss: 0.4090 - accuracy: 0.8066\n",
      "Epoch 50/100\n",
      "176/176 [==============================] - 0s 1ms/step - loss: 0.4087 - accuracy: 0.8076\n",
      "Epoch 51/100\n",
      "176/176 [==============================] - 0s 1ms/step - loss: 0.4083 - accuracy: 0.8112\n",
      "Epoch 52/100\n",
      "176/176 [==============================] - 0s 1ms/step - loss: 0.4081 - accuracy: 0.8064\n",
      "Epoch 53/100\n",
      "176/176 [==============================] - 0s 1ms/step - loss: 0.4077 - accuracy: 0.8101\n",
      "Epoch 54/100\n",
      "176/176 [==============================] - 0s 1ms/step - loss: 0.4076 - accuracy: 0.8101\n",
      "Epoch 55/100\n",
      "176/176 [==============================] - 0s 1ms/step - loss: 0.4081 - accuracy: 0.8091\n",
      "Epoch 56/100\n",
      "176/176 [==============================] - 0s 1ms/step - loss: 0.4068 - accuracy: 0.8103\n",
      "Epoch 57/100\n",
      "176/176 [==============================] - 0s 1ms/step - loss: 0.4072 - accuracy: 0.8073\n",
      "Epoch 58/100\n",
      "176/176 [==============================] - 0s 1ms/step - loss: 0.4062 - accuracy: 0.8082\n",
      "Epoch 59/100\n",
      "176/176 [==============================] - 0s 1ms/step - loss: 0.4070 - accuracy: 0.8075\n",
      "Epoch 60/100\n",
      "176/176 [==============================] - 0s 1ms/step - loss: 0.4067 - accuracy: 0.8085\n",
      "Epoch 61/100\n",
      "176/176 [==============================] - 0s 1ms/step - loss: 0.4064 - accuracy: 0.8105\n",
      "Epoch 62/100\n",
      "176/176 [==============================] - 0s 1ms/step - loss: 0.4057 - accuracy: 0.8107\n",
      "Epoch 63/100\n",
      "176/176 [==============================] - 0s 1ms/step - loss: 0.4061 - accuracy: 0.8117\n",
      "Epoch 64/100\n",
      "176/176 [==============================] - 0s 1ms/step - loss: 0.4066 - accuracy: 0.8107\n",
      "Epoch 65/100\n",
      "176/176 [==============================] - 0s 1ms/step - loss: 0.4055 - accuracy: 0.8128\n",
      "Epoch 66/100\n",
      "176/176 [==============================] - 0s 1ms/step - loss: 0.4064 - accuracy: 0.8069\n",
      "Epoch 67/100\n",
      "176/176 [==============================] - 0s 1ms/step - loss: 0.4054 - accuracy: 0.8092\n",
      "Epoch 68/100\n",
      "176/176 [==============================] - 0s 1ms/step - loss: 0.4051 - accuracy: 0.8119\n",
      "Epoch 69/100\n",
      "176/176 [==============================] - 0s 1ms/step - loss: 0.4048 - accuracy: 0.8116\n",
      "Epoch 70/100\n",
      "176/176 [==============================] - 0s 1ms/step - loss: 0.4053 - accuracy: 0.8092\n",
      "Epoch 71/100\n",
      "176/176 [==============================] - 0s 1ms/step - loss: 0.4047 - accuracy: 0.8117\n",
      "Epoch 72/100\n",
      "176/176 [==============================] - 0s 1ms/step - loss: 0.4048 - accuracy: 0.8091\n",
      "Epoch 73/100\n",
      "176/176 [==============================] - 0s 996us/step - loss: 0.4043 - accuracy: 0.8100\n",
      "Epoch 74/100\n",
      "176/176 [==============================] - 0s 1ms/step - loss: 0.4040 - accuracy: 0.8103\n",
      "Epoch 75/100\n",
      "176/176 [==============================] - 0s 1ms/step - loss: 0.4043 - accuracy: 0.8123\n",
      "Epoch 76/100\n",
      "176/176 [==============================] - 0s 1ms/step - loss: 0.4041 - accuracy: 0.8096\n",
      "Epoch 77/100\n",
      "176/176 [==============================] - 0s 1ms/step - loss: 0.4040 - accuracy: 0.8121\n",
      "Epoch 78/100\n",
      "176/176 [==============================] - 0s 1ms/step - loss: 0.4042 - accuracy: 0.8096\n",
      "Epoch 79/100\n",
      "176/176 [==============================] - 0s 1ms/step - loss: 0.4040 - accuracy: 0.8103\n",
      "Epoch 80/100\n",
      "176/176 [==============================] - 0s 1ms/step - loss: 0.4038 - accuracy: 0.8092\n",
      "Epoch 81/100\n",
      "176/176 [==============================] - 0s 1ms/step - loss: 0.4031 - accuracy: 0.8112\n",
      "Epoch 82/100\n",
      "176/176 [==============================] - 0s 1ms/step - loss: 0.4035 - accuracy: 0.8130\n",
      "Epoch 83/100\n",
      "176/176 [==============================] - 0s 1ms/step - loss: 0.4032 - accuracy: 0.8130\n",
      "Epoch 84/100\n",
      "176/176 [==============================] - 0s 1ms/step - loss: 0.4025 - accuracy: 0.8084\n",
      "Epoch 85/100\n",
      "176/176 [==============================] - 0s 1ms/step - loss: 0.4030 - accuracy: 0.8114\n",
      "Epoch 86/100\n",
      "176/176 [==============================] - 0s 980us/step - loss: 0.4021 - accuracy: 0.8116\n",
      "Epoch 87/100\n",
      "176/176 [==============================] - 0s 990us/step - loss: 0.4017 - accuracy: 0.8132\n",
      "Epoch 88/100\n",
      "176/176 [==============================] - 0s 920us/step - loss: 0.4019 - accuracy: 0.8105\n",
      "Epoch 89/100\n",
      "176/176 [==============================] - 0s 973us/step - loss: 0.4021 - accuracy: 0.8108\n",
      "Epoch 90/100\n",
      "176/176 [==============================] - 0s 1ms/step - loss: 0.4012 - accuracy: 0.8153\n",
      "Epoch 91/100\n",
      "176/176 [==============================] - 0s 950us/step - loss: 0.4016 - accuracy: 0.8128\n",
      "Epoch 92/100\n",
      "176/176 [==============================] - 0s 1ms/step - loss: 0.4017 - accuracy: 0.8121\n",
      "Epoch 93/100\n",
      "176/176 [==============================] - 0s 927us/step - loss: 0.4011 - accuracy: 0.8126\n",
      "Epoch 94/100\n",
      "176/176 [==============================] - 0s 943us/step - loss: 0.4005 - accuracy: 0.8126\n",
      "Epoch 95/100\n",
      "176/176 [==============================] - 0s 990us/step - loss: 0.4014 - accuracy: 0.8105\n",
      "Epoch 96/100\n",
      "176/176 [==============================] - 0s 904us/step - loss: 0.4011 - accuracy: 0.8133\n",
      "Epoch 97/100\n",
      "176/176 [==============================] - 0s 833us/step - loss: 0.4004 - accuracy: 0.8144\n",
      "Epoch 98/100\n",
      "176/176 [==============================] - 0s 829us/step - loss: 0.4006 - accuracy: 0.8128\n",
      "Epoch 99/100\n",
      "176/176 [==============================] - 0s 813us/step - loss: 0.4008 - accuracy: 0.8124\n",
      "Epoch 100/100\n",
      "176/176 [==============================] - 0s 818us/step - loss: 0.4006 - accuracy: 0.8117\n"
     ]
    },
    {
     "data": {
      "text/plain": [
       "<keras.src.callbacks.History at 0x1c7f77da690>"
      ]
     },
     "execution_count": 20,
     "metadata": {},
     "output_type": "execute_result"
    }
   ],
   "source": [
    "\n",
    "mod=tf.keras.Sequential([tf.keras.layers.Dense(20,input_shape=(20, ),activation='relu'),tf.keras.layers.Dense(1,activation='sigmoid')])\n",
    "mod.compile(optimizer='adam',loss='binary_crossentropy',metrics=['accuracy'])\n",
    "mod.fit(X,Y,epochs=100)"
   ]
  },
  {
   "cell_type": "code",
   "execution_count": 21,
   "id": "edb03bc7-b40e-4373-8c5b-c4724db92f07",
   "metadata": {},
   "outputs": [
    {
     "name": "stdout",
     "output_type": "stream",
     "text": [
      "44/44 [==============================] - 0s 681us/step\n"
     ]
    }
   ],
   "source": [
    "res=mod.predict(x)"
   ]
  },
  {
   "cell_type": "code",
   "execution_count": 22,
   "id": "fa827787-a215-40ee-876e-1d146403b8ee",
   "metadata": {},
   "outputs": [
    {
     "name": "stdout",
     "output_type": "stream",
     "text": [
      "1123\n"
     ]
    }
   ],
   "source": [
    "count=0\n",
    "l=0\n",
    "for i in y:\n",
    "    temp=0\n",
    "    if(res[l]>=0.5):\n",
    "        temp=1\n",
    "    if(temp==i):\n",
    "        count+=1\n",
    "    l+=1    \n",
    "print(count)        "
   ]
  },
  {
   "cell_type": "markdown",
   "id": "99fe818d-4ae0-47b1-8d60-0c731ae37593",
   "metadata": {},
   "source": [
    "accuracy in detection is almost"
   ]
  },
  {
   "cell_type": "code",
   "execution_count": 23,
   "id": "cb2983e9-38f8-48c5-af60-5715aa97f300",
   "metadata": {},
   "outputs": [
    {
     "name": "stdout",
     "output_type": "stream",
     "text": [
      "80.09950248756219\n"
     ]
    }
   ],
   "source": [
    "print(((1127)/1407)*100)"
   ]
  },
  {
   "cell_type": "markdown",
   "id": "bfcdb021-e3bd-4ae5-9404-53e5b452e5d5",
   "metadata": {},
   "source": [
    "almost the same we predicted "
   ]
  },
  {
   "cell_type": "code",
   "execution_count": 31,
   "id": "cf54cf20-8076-49ee-899b-d8f6aa6d515c",
   "metadata": {},
   "outputs": [
    {
     "name": "stdout",
     "output_type": "stream",
     "text": [
      "44/44 [==============================] - 0s 740us/step - loss: 0.4167 - accuracy: 0.7982\n"
     ]
    },
    {
     "data": {
      "text/plain": [
       "[0.4166651964187622, 0.7981520891189575]"
      ]
     },
     "execution_count": 31,
     "metadata": {},
     "output_type": "execute_result"
    }
   ],
   "source": [
    " mod.evaluate(x,y)"
   ]
  },
  {
   "cell_type": "markdown",
   "id": "903e663b-537a-4b35-a8fc-f751b112a73d",
   "metadata": {},
   "source": [
    "now we will train a another model with same activation function and same number of layer but with some dropout layers for better performance"
   ]
  },
  {
   "cell_type": "code",
   "execution_count": 32,
   "id": "7a4e258c-1c26-4414-97a0-487a2915346d",
   "metadata": {},
   "outputs": [
    {
     "name": "stdout",
     "output_type": "stream",
     "text": [
      "Epoch 1/100\n",
      "176/176 [==============================] - 1s 902us/step - loss: 0.6697 - accuracy: 0.6185\n",
      "Epoch 2/100\n",
      "176/176 [==============================] - 0s 906us/step - loss: 0.5386 - accuracy: 0.7255\n",
      "Epoch 3/100\n",
      "176/176 [==============================] - 0s 903us/step - loss: 0.5004 - accuracy: 0.7470\n",
      "Epoch 4/100\n",
      "176/176 [==============================] - 0s 886us/step - loss: 0.4769 - accuracy: 0.7627\n",
      "Epoch 5/100\n",
      "176/176 [==============================] - 0s 905us/step - loss: 0.4718 - accuracy: 0.7662\n",
      "Epoch 6/100\n",
      "176/176 [==============================] - 0s 889us/step - loss: 0.4678 - accuracy: 0.7682\n",
      "Epoch 7/100\n",
      "176/176 [==============================] - 0s 888us/step - loss: 0.4611 - accuracy: 0.7708\n",
      "Epoch 8/100\n",
      "176/176 [==============================] - 0s 874us/step - loss: 0.4542 - accuracy: 0.7714\n",
      "Epoch 9/100\n",
      "176/176 [==============================] - 0s 880us/step - loss: 0.4544 - accuracy: 0.7758\n",
      "Epoch 10/100\n",
      "176/176 [==============================] - 0s 885us/step - loss: 0.4571 - accuracy: 0.7707\n",
      "Epoch 11/100\n",
      "176/176 [==============================] - 0s 864us/step - loss: 0.4471 - accuracy: 0.7847\n",
      "Epoch 12/100\n",
      "176/176 [==============================] - 0s 882us/step - loss: 0.4456 - accuracy: 0.7808\n",
      "Epoch 13/100\n",
      "176/176 [==============================] - 0s 898us/step - loss: 0.4453 - accuracy: 0.7829\n",
      "Epoch 14/100\n",
      "176/176 [==============================] - 0s 887us/step - loss: 0.4475 - accuracy: 0.7854\n",
      "Epoch 15/100\n",
      "176/176 [==============================] - 0s 894us/step - loss: 0.4449 - accuracy: 0.7867\n",
      "Epoch 16/100\n",
      "176/176 [==============================] - 0s 887us/step - loss: 0.4393 - accuracy: 0.7906\n",
      "Epoch 17/100\n",
      "176/176 [==============================] - 0s 880us/step - loss: 0.4400 - accuracy: 0.7872\n",
      "Epoch 18/100\n",
      "176/176 [==============================] - 0s 894us/step - loss: 0.4438 - accuracy: 0.7874\n",
      "Epoch 19/100\n",
      "176/176 [==============================] - 0s 888us/step - loss: 0.4377 - accuracy: 0.7931\n",
      "Epoch 20/100\n",
      "176/176 [==============================] - 0s 885us/step - loss: 0.4382 - accuracy: 0.7881\n",
      "Epoch 21/100\n",
      "176/176 [==============================] - 0s 882us/step - loss: 0.4342 - accuracy: 0.7924\n",
      "Epoch 22/100\n",
      "176/176 [==============================] - 0s 893us/step - loss: 0.4393 - accuracy: 0.7884\n",
      "Epoch 23/100\n",
      "176/176 [==============================] - 0s 883us/step - loss: 0.4426 - accuracy: 0.7895\n",
      "Epoch 24/100\n",
      "176/176 [==============================] - 0s 890us/step - loss: 0.4326 - accuracy: 0.7909\n",
      "Epoch 25/100\n",
      "176/176 [==============================] - 0s 879us/step - loss: 0.4367 - accuracy: 0.7943\n",
      "Epoch 26/100\n",
      "176/176 [==============================] - 0s 888us/step - loss: 0.4411 - accuracy: 0.7902\n",
      "Epoch 27/100\n",
      "176/176 [==============================] - 0s 924us/step - loss: 0.4325 - accuracy: 0.7888\n",
      "Epoch 28/100\n",
      "176/176 [==============================] - 0s 885us/step - loss: 0.4348 - accuracy: 0.7956\n",
      "Epoch 29/100\n",
      "176/176 [==============================] - 0s 882us/step - loss: 0.4370 - accuracy: 0.7922\n",
      "Epoch 30/100\n",
      "176/176 [==============================] - 0s 884us/step - loss: 0.4317 - accuracy: 0.7968\n",
      "Epoch 31/100\n",
      "176/176 [==============================] - 0s 887us/step - loss: 0.4359 - accuracy: 0.7893\n",
      "Epoch 32/100\n",
      "176/176 [==============================] - 0s 880us/step - loss: 0.4376 - accuracy: 0.7957\n",
      "Epoch 33/100\n",
      "176/176 [==============================] - 0s 881us/step - loss: 0.4343 - accuracy: 0.7941\n",
      "Epoch 34/100\n",
      "176/176 [==============================] - 0s 885us/step - loss: 0.4391 - accuracy: 0.7906\n",
      "Epoch 35/100\n",
      "176/176 [==============================] - 0s 883us/step - loss: 0.4310 - accuracy: 0.7893\n",
      "Epoch 36/100\n",
      "176/176 [==============================] - 0s 887us/step - loss: 0.4353 - accuracy: 0.7916\n",
      "Epoch 37/100\n",
      "176/176 [==============================] - 0s 897us/step - loss: 0.4332 - accuracy: 0.7918\n",
      "Epoch 38/100\n",
      "176/176 [==============================] - 0s 887us/step - loss: 0.4331 - accuracy: 0.7931\n",
      "Epoch 39/100\n",
      "176/176 [==============================] - 0s 921us/step - loss: 0.4301 - accuracy: 0.7940\n",
      "Epoch 40/100\n",
      "176/176 [==============================] - 0s 912us/step - loss: 0.4333 - accuracy: 0.7940\n",
      "Epoch 41/100\n",
      "176/176 [==============================] - 0s 892us/step - loss: 0.4360 - accuracy: 0.7924\n",
      "Epoch 42/100\n",
      "176/176 [==============================] - 0s 902us/step - loss: 0.4343 - accuracy: 0.7963\n",
      "Epoch 43/100\n",
      "176/176 [==============================] - 0s 885us/step - loss: 0.4307 - accuracy: 0.7957\n",
      "Epoch 44/100\n",
      "176/176 [==============================] - 0s 953us/step - loss: 0.4347 - accuracy: 0.7902\n",
      "Epoch 45/100\n",
      "176/176 [==============================] - 0s 900us/step - loss: 0.4310 - accuracy: 0.7948\n",
      "Epoch 46/100\n",
      "176/176 [==============================] - 0s 884us/step - loss: 0.4346 - accuracy: 0.7941\n",
      "Epoch 47/100\n",
      "176/176 [==============================] - 0s 874us/step - loss: 0.4348 - accuracy: 0.7906\n",
      "Epoch 48/100\n",
      "176/176 [==============================] - 0s 892us/step - loss: 0.4343 - accuracy: 0.7938\n",
      "Epoch 49/100\n",
      "176/176 [==============================] - 0s 877us/step - loss: 0.4300 - accuracy: 0.7938\n",
      "Epoch 50/100\n",
      "176/176 [==============================] - 0s 874us/step - loss: 0.4338 - accuracy: 0.7952\n",
      "Epoch 51/100\n",
      "176/176 [==============================] - 0s 875us/step - loss: 0.4379 - accuracy: 0.7906\n",
      "Epoch 52/100\n",
      "176/176 [==============================] - 0s 886us/step - loss: 0.4298 - accuracy: 0.7945\n",
      "Epoch 53/100\n",
      "176/176 [==============================] - 0s 886us/step - loss: 0.4281 - accuracy: 0.7970\n",
      "Epoch 54/100\n",
      "176/176 [==============================] - 0s 902us/step - loss: 0.4319 - accuracy: 0.7948\n",
      "Epoch 55/100\n",
      "176/176 [==============================] - 0s 893us/step - loss: 0.4318 - accuracy: 0.7961\n",
      "Epoch 56/100\n",
      "176/176 [==============================] - 0s 968us/step - loss: 0.4298 - accuracy: 0.7979\n",
      "Epoch 57/100\n",
      "176/176 [==============================] - 0s 923us/step - loss: 0.4304 - accuracy: 0.7964\n",
      "Epoch 58/100\n",
      "176/176 [==============================] - 0s 879us/step - loss: 0.4307 - accuracy: 0.7975\n",
      "Epoch 59/100\n",
      "176/176 [==============================] - 0s 883us/step - loss: 0.4339 - accuracy: 0.7941\n",
      "Epoch 60/100\n",
      "176/176 [==============================] - 0s 902us/step - loss: 0.4281 - accuracy: 0.7940\n",
      "Epoch 61/100\n",
      "176/176 [==============================] - 0s 895us/step - loss: 0.4277 - accuracy: 0.7950\n",
      "Epoch 62/100\n",
      "176/176 [==============================] - 0s 907us/step - loss: 0.4322 - accuracy: 0.7897\n",
      "Epoch 63/100\n",
      "176/176 [==============================] - 0s 960us/step - loss: 0.4271 - accuracy: 0.7918\n",
      "Epoch 64/100\n",
      "176/176 [==============================] - 0s 944us/step - loss: 0.4258 - accuracy: 0.7996\n",
      "Epoch 65/100\n",
      "176/176 [==============================] - 0s 948us/step - loss: 0.4282 - accuracy: 0.7963\n",
      "Epoch 66/100\n",
      "176/176 [==============================] - 0s 972us/step - loss: 0.4317 - accuracy: 0.7915\n",
      "Epoch 67/100\n",
      "176/176 [==============================] - 0s 986us/step - loss: 0.4273 - accuracy: 0.7950\n",
      "Epoch 68/100\n",
      "176/176 [==============================] - 0s 948us/step - loss: 0.4277 - accuracy: 0.7936\n",
      "Epoch 69/100\n",
      "176/176 [==============================] - 0s 933us/step - loss: 0.4311 - accuracy: 0.7996\n",
      "Epoch 70/100\n",
      "176/176 [==============================] - 0s 915us/step - loss: 0.4254 - accuracy: 0.7982\n",
      "Epoch 71/100\n",
      "176/176 [==============================] - 0s 905us/step - loss: 0.4303 - accuracy: 0.7954\n",
      "Epoch 72/100\n",
      "176/176 [==============================] - 0s 891us/step - loss: 0.4277 - accuracy: 0.8009\n",
      "Epoch 73/100\n",
      "176/176 [==============================] - 0s 885us/step - loss: 0.4308 - accuracy: 0.7988\n",
      "Epoch 74/100\n",
      "176/176 [==============================] - 0s 890us/step - loss: 0.4263 - accuracy: 0.8023\n",
      "Epoch 75/100\n",
      "176/176 [==============================] - 0s 905us/step - loss: 0.4299 - accuracy: 0.7932\n",
      "Epoch 76/100\n",
      "176/176 [==============================] - 0s 894us/step - loss: 0.4269 - accuracy: 0.7963\n",
      "Epoch 77/100\n",
      "176/176 [==============================] - 0s 871us/step - loss: 0.4263 - accuracy: 0.7959\n",
      "Epoch 78/100\n",
      "176/176 [==============================] - 0s 895us/step - loss: 0.4242 - accuracy: 0.7980\n",
      "Epoch 79/100\n",
      "176/176 [==============================] - 0s 941us/step - loss: 0.4287 - accuracy: 0.7995\n",
      "Epoch 80/100\n",
      "176/176 [==============================] - 0s 946us/step - loss: 0.4267 - accuracy: 0.7995\n",
      "Epoch 81/100\n",
      "176/176 [==============================] - 0s 928us/step - loss: 0.4274 - accuracy: 0.7931\n",
      "Epoch 82/100\n",
      "176/176 [==============================] - 0s 925us/step - loss: 0.4255 - accuracy: 0.8004\n",
      "Epoch 83/100\n",
      "176/176 [==============================] - 0s 959us/step - loss: 0.4253 - accuracy: 0.7998\n",
      "Epoch 84/100\n",
      "176/176 [==============================] - 0s 909us/step - loss: 0.4254 - accuracy: 0.7941\n",
      "Epoch 85/100\n",
      "176/176 [==============================] - 0s 908us/step - loss: 0.4285 - accuracy: 0.7961\n",
      "Epoch 86/100\n",
      "176/176 [==============================] - 0s 903us/step - loss: 0.4301 - accuracy: 0.7998\n",
      "Epoch 87/100\n",
      "176/176 [==============================] - 0s 888us/step - loss: 0.4235 - accuracy: 0.8036\n",
      "Epoch 88/100\n",
      "176/176 [==============================] - 0s 901us/step - loss: 0.4284 - accuracy: 0.8020\n",
      "Epoch 89/100\n",
      "176/176 [==============================] - 0s 893us/step - loss: 0.4253 - accuracy: 0.7975\n",
      "Epoch 90/100\n",
      "176/176 [==============================] - 0s 888us/step - loss: 0.4292 - accuracy: 0.7957\n",
      "Epoch 91/100\n",
      "176/176 [==============================] - 0s 939us/step - loss: 0.4274 - accuracy: 0.7966\n",
      "Epoch 92/100\n",
      "176/176 [==============================] - 0s 949us/step - loss: 0.4281 - accuracy: 0.7977\n",
      "Epoch 93/100\n",
      "176/176 [==============================] - 0s 936us/step - loss: 0.4296 - accuracy: 0.7945\n",
      "Epoch 94/100\n",
      "176/176 [==============================] - 0s 901us/step - loss: 0.4233 - accuracy: 0.7996\n",
      "Epoch 95/100\n",
      "176/176 [==============================] - 0s 912us/step - loss: 0.4259 - accuracy: 0.7993\n",
      "Epoch 96/100\n",
      "176/176 [==============================] - 0s 910us/step - loss: 0.4294 - accuracy: 0.7952\n",
      "Epoch 97/100\n",
      "176/176 [==============================] - 0s 893us/step - loss: 0.4260 - accuracy: 0.7984\n",
      "Epoch 98/100\n",
      "176/176 [==============================] - 0s 900us/step - loss: 0.4256 - accuracy: 0.8012\n",
      "Epoch 99/100\n",
      "176/176 [==============================] - 0s 887us/step - loss: 0.4261 - accuracy: 0.7989\n",
      "Epoch 100/100\n",
      "176/176 [==============================] - 0s 961us/step - loss: 0.4242 - accuracy: 0.7968\n"
     ]
    },
    {
     "data": {
      "text/plain": [
       "<keras.src.callbacks.History at 0x1c7fa8cf590>"
      ]
     },
     "execution_count": 32,
     "metadata": {},
     "output_type": "execute_result"
    }
   ],
   "source": [
    "model=tf.keras.Sequential([tf.keras.layers.Dense(20,input_shape=(20, ),activation='relu'),tf.keras.layers.Dropout(0.5),tf.keras.layers.Dense(1,activation='sigmoid')])\n",
    "model.compile(optimizer='adam',loss='binary_crossentropy',metrics=['accuracy'])\n",
    "model.fit(X,Y,epochs=100)"
   ]
  },
  {
   "cell_type": "code",
   "execution_count": 33,
   "id": "429d23d1-2d60-4b48-a75c-f1ad9378fb3c",
   "metadata": {},
   "outputs": [
    {
     "name": "stdout",
     "output_type": "stream",
     "text": [
      "44/44 [==============================] - 0s 983us/step - loss: 0.4130 - accuracy: 0.8003\n"
     ]
    },
    {
     "data": {
      "text/plain": [
       "[0.413017600774765, 0.8002842664718628]"
      ]
     },
     "execution_count": 33,
     "metadata": {},
     "output_type": "execute_result"
    }
   ],
   "source": [
    "model.evaluate(x,y)"
   ]
  },
  {
   "cell_type": "markdown",
   "id": "28c2a96c-02d6-47c7-ab92-05ebd9e206de",
   "metadata": {},
   "source": [
    "here what we discoverd is accuracy on our training dataset decreased but where on testing dataset it increased "
   ]
  },
  {
   "cell_type": "code",
   "execution_count": 38,
   "id": "4e88ec7e-b26a-4f1d-901c-0691e1aee409",
   "metadata": {},
   "outputs": [],
   "source": [
    "from sklearn.metrics import classification_report"
   ]
  },
  {
   "cell_type": "markdown",
   "id": "a795a65b-296f-4806-ab98-8c5ad2c75054",
   "metadata": {},
   "source": [
    "for model with dropout layers classification report is "
   ]
  },
  {
   "cell_type": "code",
   "execution_count": 39,
   "id": "769b9706-2cdb-41b0-9e9e-6b1c70acabec",
   "metadata": {},
   "outputs": [
    {
     "name": "stdout",
     "output_type": "stream",
     "text": [
      "44/44 [==============================] - 0s 677us/step\n",
      "              precision    recall  f1-score   support\n",
      "\n",
      "           0       0.84      0.91      0.87      1055\n",
      "           1       0.63      0.49      0.55       352\n",
      "\n",
      "    accuracy                           0.80      1407\n",
      "   macro avg       0.74      0.70      0.71      1407\n",
      "weighted avg       0.79      0.80      0.79      1407\n",
      "\n"
     ]
    }
   ],
   "source": [
    "y_pred=model.predict(x)\n",
    "y_pred=np.round(y_pred)\n",
    "print(classification_report(y,y_pred))"
   ]
  },
  {
   "cell_type": "markdown",
   "id": "14e9717c-1551-42fb-bb4c-06821f8dad30",
   "metadata": {},
   "source": [
    "for model without dropout layer "
   ]
  },
  {
   "cell_type": "code",
   "execution_count": 40,
   "id": "e69656f2-3283-4d41-9b9d-bf4dcf613476",
   "metadata": {},
   "outputs": [
    {
     "name": "stdout",
     "output_type": "stream",
     "text": [
      "44/44 [==============================] - 0s 623us/step\n",
      "              precision    recall  f1-score   support\n",
      "\n",
      "           0       0.85      0.89      0.87      1055\n",
      "           1       0.61      0.53      0.57       352\n",
      "\n",
      "    accuracy                           0.80      1407\n",
      "   macro avg       0.73      0.71      0.72      1407\n",
      "weighted avg       0.79      0.80      0.79      1407\n",
      "\n"
     ]
    }
   ],
   "source": [
    "y_P=mod.predict(x)\n",
    "y_P=np.round(y_P)\n",
    "print(classification_report(y,y_P))"
   ]
  },
  {
   "cell_type": "code",
   "execution_count": 41,
   "id": "ca826f54-eb4f-4121-a8f3-f3fbebe5319f",
   "metadata": {},
   "outputs": [
    {
     "name": "stdout",
     "output_type": "stream",
     "text": [
      "\n"
     ]
    }
   ],
   "source": [
    "print()"
   ]
  },
  {
   "cell_type": "markdown",
   "id": "5173e290-1361-4598-980b-fd9d70d45fa0",
   "metadata": {},
   "source": [
    "thankyou, see you soon\n",
    "(08-01-2024)"
   ]
  },
  {
   "cell_type": "code",
   "execution_count": null,
   "id": "9affa601-6adf-4965-adff-c554725a39c4",
   "metadata": {},
   "outputs": [],
   "source": []
  }
 ],
 "metadata": {
  "kernelspec": {
   "display_name": "Python 3 (ipykernel)",
   "language": "python",
   "name": "python3"
  },
  "language_info": {
   "codemirror_mode": {
    "name": "ipython",
    "version": 3
   },
   "file_extension": ".py",
   "mimetype": "text/x-python",
   "name": "python",
   "nbconvert_exporter": "python",
   "pygments_lexer": "ipython3",
   "version": "3.11.0"
  }
 },
 "nbformat": 4,
 "nbformat_minor": 5
}
